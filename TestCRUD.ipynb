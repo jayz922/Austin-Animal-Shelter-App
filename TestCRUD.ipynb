{
 "cells": [
  {
   "cell_type": "code",
   "execution_count": 14,
   "metadata": {},
   "outputs": [
    {
     "name": "stdout",
     "output_type": "stream",
     "text": [
      "Connected to Database\n",
      "Successfully Deleted\n",
      "<pymongo.results.DeleteResult object at 0x7f3bbe4cb9c8>\n"
     ]
    },
    {
     "data": {
      "text/plain": [
       "True"
      ]
     },
     "execution_count": 14,
     "metadata": {},
     "output_type": "execute_result"
    }
   ],
   "source": [
    "import animalShelter as driver\n",
    "shelter = driver.AnimalShelter(\"aacuser\", \"aacuser\")\n",
    "\n",
    "#define the data object\n",
    "animalData = {\"age_upon_outcome\": \"1 year\",\n",
    "               \"animal_id\": \"A123456\",\n",
    "               \"animal_type\" : \"testType\",\n",
    "               \"breed\" : \"German Shepard\",\n",
    "               \"color\" : \"Black\",\n",
    "               \"date_of_birth\" : \"2021-02-01\",\n",
    "               \"datetime\" : \"2021-03-19 14:14:00\",\n",
    "               \"monthyear\":\"2021-03-19T15:15:00\",\n",
    "               \"name\": \"Major\",\n",
    "               \"outcome_subtype\": \"Aggressive\",\n",
    "               \"outcome_type\" : \"Euthanasia\",\n",
    "               \"sex_upon_outcome\": \"Male\",\n",
    "               \"location_lat\": \"30.29542565483445\",\n",
    "               \"location_long\": \"-97.3136642110436\",\n",
    "               \"age_upon_outcome_in_weeks\": \"106.662202380957\"\n",
    "             }\n",
    "\n",
    "#define the search criteria\n",
    "testTarget = {\"animal_type\": \"testType\"}\n",
    "testUpdate = {\"$set\": {\"name\": \"1234\"}}\n",
    "testUpdateTwo = {\"$set\": {\"name\": \"0000\",\n",
    "                          \"animal_type\" : \"Dog\"\n",
    "                         }}\n",
    "\n",
    "#tests for the CRUD functionalities. \n",
    "shelter.create(animalData)\n",
    "shelter.read(animalData)\n",
    "shelter.update(testTarget, testUpdate)\n",
    "shelter.delete(animalData)"
   ]
  },
  {
   "cell_type": "code",
   "execution_count": null,
   "metadata": {},
   "outputs": [],
   "source": []
  },
  {
   "cell_type": "code",
   "execution_count": null,
   "metadata": {},
   "outputs": [],
   "source": []
  }
 ],
 "metadata": {
  "kernelspec": {
   "display_name": "Python 3",
   "language": "python",
   "name": "python3"
  },
  "language_info": {
   "codemirror_mode": {
    "name": "ipython",
    "version": 3
   },
   "file_extension": ".py",
   "mimetype": "text/x-python",
   "name": "python",
   "nbconvert_exporter": "python",
   "pygments_lexer": "ipython3",
   "version": "3.6.9"
  }
 },
 "nbformat": 4,
 "nbformat_minor": 2
}
